{
  "nbformat": 4,
  "nbformat_minor": 0,
  "metadata": {
    "colab": {
      "provenance": [],
      "collapsed_sections": []
    },
    "kernelspec": {
      "name": "python3",
      "display_name": "Python 3"
    },
    "language_info": {
      "name": "python"
    }
  },
  "cells": [
    {
      "cell_type": "markdown",
      "source": [
        "#Taller 2\n",
        "#Grupo_3\n",
        "#Integrantes: Andres Solano, Mary Ortiz, Jesús Rios y Juan Sebastian Manrique"
      ],
      "metadata": {
        "id": "TYMrgWbAhhlZ"
      }
    },
    {
      "cell_type": "markdown",
      "source": [
        "1. *Escriba* un algoritmo que dado un número entero, indique si este valor es par o impar.(recordar Todos los operadores aritméticos [+, -, *, /, %MOD])"
      ],
      "metadata": {
        "id": "9r6kNSDzO1RN"
      }
    },
    {
      "cell_type": "code",
      "execution_count": null,
      "metadata": {
        "colab": {
          "base_uri": "https://localhost:8080/"
        },
        "id": "LmnleLkYiYrs",
        "outputId": "e3c49b6c-8588-46fc-ec86-e0220ffef316"
      },
      "outputs": [
        {
          "output_type": "stream",
          "name": "stdout",
          "text": [
            "Escribe un numero5\n",
            "Su número es impar\n"
          ]
        }
      ],
      "source": [
        "#inicio\n",
        "N=int(input(\"Escribe un numero\"))#Variable de ingreso\n",
        "Residuo=N%2#Operación para determinar el residuo de la variable\n",
        "if Residuo==0:#Condición para determinar si la variable es par o inpar\n",
        "  print(\"Su número es par\")\n",
        "else:#Negación de la condición\n",
        "  print(\"Su número es impar\")"
      ]
    },
    {
      "cell_type": "markdown",
      "source": [
        "Escriba un algoritmo que pida un número y también un porcentaje entre 0 y 100 que puede ser decimal,  el algoritmo debe entregar el cálculo del porcentaje del primer número, Si el usuario ingresa un dato fuera del rango  (0 a 100), debe mostrar un error y volver a pedir el porcentaje.\n"
      ],
      "metadata": {
        "id": "WNiawTEnPMAC"
      }
    },
    {
      "cell_type": "code",
      "source": [
        "#inicio\n",
        "N=float(input(\"Escribe un numero\" )) #variable de ingreso numero\n",
        "P=float(input(\"Escribe un porcentaje\" )) #variable de ingreso porcentaje\n",
        "Pp=(N * P)/100 #como hallar el porcentaje\n",
        "while P>100:#bucle hasta que el porcentaje sea menor a 100\n",
        "  print(\"ERROR!!\")#resultado condicion verdadera\n",
        "  P=float(input(\"Escribe un porcentaje valido\"))#reingreso variable invalida\n",
        "if P<=100: #condicion porcentaje mayor a 100\n",
        "  print((N * P)/100)#resultado variable valida\n",
        "else:#negacion condicion\n",
        "  print(Pp)#resultado condicion falsa"
      ],
      "metadata": {
        "id": "m_P7LCimPfcI",
        "colab": {
          "base_uri": "https://localhost:8080/"
        },
        "outputId": "a9e891cc-2e4e-44dd-be2f-9bb8a3ad145f"
      },
      "execution_count": 34,
      "outputs": [
        {
          "output_type": "stream",
          "name": "stdout",
          "text": [
            "Escribe un numero50\n",
            "Escribe un porcentaje110\n",
            "ERROR!!\n",
            "Escribe un porcentaje valido20\n",
            "10.0\n"
          ]
        }
      ]
    },
    {
      "cell_type": "markdown",
      "source": [
        "3.Con base en el primer Ejercicio, si el número indicado es par, entregar todos los números pares entre el 0 y el número."
      ],
      "metadata": {
        "id": "ZR5JvAFgZTBK"
      }
    },
    {
      "cell_type": "code",
      "source": [
        "#Inicio\n",
        "n=int(input(\"Dijite el número:\"))#variable de ingreso\n",
        "if (n%2)==0 :#condición para hallar el número par \n",
        "  print(\"El número\",n,\"es par\")#Resultado cuando la condición es verdadera\n",
        "  for a in range(0,n) :#indica el rango de los números menores al número par\n",
        "    if (a%2)==0 :#condición para imprimir los numeros pares menores de n\n",
        "      print(\"Los números pares menores a\",n,\"son:\",a,)#Imprime los números pares menores a n\n",
        "else :  #Negación de la condición\n",
        " print(\"El número\",n,\"es impar\")#Resultado que tiene la negación de la condición"
      ],
      "metadata": {
        "id": "1_mtCD5BZXba",
        "colab": {
          "base_uri": "https://localhost:8080/"
        },
        "outputId": "d4164011-04a5-4afb-f10d-452e2788012a"
      },
      "execution_count": null,
      "outputs": [
        {
          "output_type": "stream",
          "name": "stdout",
          "text": [
            "Dijite el número:8\n",
            "El número 8 es par\n",
            "Los números pares menores a 8 son: 0\n",
            "Los números pares menores a 8 son: 2\n",
            "Los números pares menores a 8 son: 4\n",
            "Los números pares menores a 8 son: 6\n"
          ]
        }
      ]
    },
    {
      "cell_type": "markdown",
      "source": [
        "4.Escriba un algoritmo que dado un número entero, entregue la suma de todos los números entre el 0 y el número dado."
      ],
      "metadata": {
        "id": "s0YXVn75dRIO"
      }
    },
    {
      "cell_type": "code",
      "source": [
        "#Inicio\n",
        "z=int(input(\"Escriba un número entero:\"))#variable de ingreso\n",
        "print(\"El número entero es: \",z,)#Impresión de la variable\n",
        "for a in range(0,z+1) :#indica el rango de los números menores al número par\n",
        "    print(\"Los números entre 0 y\",z,\"son:\",a,)#Números del rango\n",
        "print(\"La suma de los números entre 0 y\",z,\"es:\",sum(range(0,z+1)),)#Resultado de la sumatoria de los números de 0 al número escrito"
      ],
      "metadata": {
        "colab": {
          "base_uri": "https://localhost:8080/"
        },
        "id": "0T4ZzQv7dXfL",
        "outputId": "b3860f66-ab49-40c8-fdbb-0b7d78c1d5f7"
      },
      "execution_count": null,
      "outputs": [
        {
          "output_type": "stream",
          "name": "stdout",
          "text": [
            "Escriba un número entero:18\n",
            "El número entero es:  18\n",
            "Los números entre 0 y 18 son: 0\n",
            "Los números entre 0 y 18 son: 1\n",
            "Los números entre 0 y 18 son: 2\n",
            "Los números entre 0 y 18 son: 3\n",
            "Los números entre 0 y 18 son: 4\n",
            "Los números entre 0 y 18 son: 5\n",
            "Los números entre 0 y 18 son: 6\n",
            "Los números entre 0 y 18 son: 7\n",
            "Los números entre 0 y 18 son: 8\n",
            "Los números entre 0 y 18 son: 9\n",
            "Los números entre 0 y 18 son: 10\n",
            "Los números entre 0 y 18 son: 11\n",
            "Los números entre 0 y 18 son: 12\n",
            "Los números entre 0 y 18 son: 13\n",
            "Los números entre 0 y 18 son: 14\n",
            "Los números entre 0 y 18 son: 15\n",
            "Los números entre 0 y 18 son: 16\n",
            "Los números entre 0 y 18 son: 17\n",
            "Los números entre 0 y 18 son: 18\n",
            "La suma de los números entre 0 y 18 es: 171\n"
          ]
        }
      ]
    }
  ]
}